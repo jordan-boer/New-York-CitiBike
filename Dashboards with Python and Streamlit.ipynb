{
 "cells": [
  {
   "cell_type": "markdown",
   "id": "a2383c48-0718-4049-bc9a-820ebb214506",
   "metadata": {},
   "source": [
    "# Creating Dashboard with Python"
   ]
  },
  {
   "cell_type": "markdown",
   "id": "48744787-1a28-403f-905c-68dbec27e761",
   "metadata": {},
   "source": [
    "## Import Libraries"
   ]
  },
  {
   "cell_type": "code",
   "execution_count": 1,
   "id": "ab491ec2-f7db-4aad-b30c-bd8877773263",
   "metadata": {},
   "outputs": [],
   "source": [
    "# Import libraries\n",
    "import streamlit as st\n",
    "import pandas as pd\n",
    "import numpy as np\n",
    "import plotly.express as px\n",
    "from plotly.subplots import make_subplots\n",
    "import plotly.graph_objects as go\n",
    "import matplotlib.pyplot as plt\n",
    "from datetime import datetime as dt\n",
    "from streamlit_keplergl import keplergl_static"
   ]
  },
  {
   "cell_type": "markdown",
   "id": "303e2f73-163b-4d9a-ad61-50c9b4177cf2",
   "metadata": {},
   "source": [
    "## Wrangle Data"
   ]
  },
  {
   "cell_type": "code",
   "execution_count": 3,
   "id": "2693fd3e-f248-4b02-9c8c-6d577b7c77c4",
   "metadata": {},
   "outputs": [],
   "source": [
    "# Import data\n",
    "df = pd.read_csv('Data/Prepared Data/NY_merged_agg.csv', index_col = 0)"
   ]
  },
  {
   "cell_type": "code",
   "execution_count": 4,
   "id": "5bb67341-9f01-41da-91b0-94c5a49b6f13",
   "metadata": {},
   "outputs": [
    {
     "data": {
      "text/plain": [
       "ride_id                object\n",
       "rideable_type          object\n",
       "start_time             object\n",
       "end_time               object\n",
       "start_station_name     object\n",
       "start_station_id       object\n",
       "end_station_name       object\n",
       "end_station_id         object\n",
       "start_lat             float64\n",
       "start_lng             float64\n",
       "end_lat               float64\n",
       "end_lng               float64\n",
       "member_casual          object\n",
       "date                   object\n",
       "avgTemp_C             float64\n",
       "avgTemp_F             float64\n",
       "daily_rides             int64\n",
       "_merge                 object\n",
       "dtype: object"
      ]
     },
     "execution_count": 4,
     "metadata": {},
     "output_type": "execute_result"
    }
   ],
   "source": [
    "# Checking data types\n",
    "df.dtypes"
   ]
  },
  {
   "cell_type": "code",
   "execution_count": 5,
   "id": "15c03013-1980-4e1f-800b-dc846da3b81c",
   "metadata": {},
   "outputs": [],
   "source": [
    "# Creating a month column \n",
    "df['date'] = pd.to_datetime(df['date'], format = '%Y-%m-%d')\n",
    "df['month'] = df['date'].dt.month\n",
    "df['month'] = df['month'].astype('int')"
   ]
  },
  {
   "cell_type": "code",
   "execution_count": 6,
   "id": "8eb5fd94-8507-416e-8be5-dc36d2b79205",
   "metadata": {},
   "outputs": [],
   "source": [
    "# Creating a season column\n",
    "df['season'] = [\n",
    "\"winter\" if (month == 12 or 1 <= month <= 4)\n",
    "    else \"spring\" if (4 < month <= 5)\n",
    "    else \"summer\" if (6 <= month <= 9)\n",
    "    else \"fall\"\n",
    "for month in df['month']\n",
    "    ]"
   ]
  },
  {
   "cell_type": "code",
   "execution_count": 7,
   "id": "4d7913e9-acc8-4247-bd1e-cdfee9afddb5",
   "metadata": {},
   "outputs": [
    {
     "data": {
      "text/html": [
       "<div>\n",
       "<style scoped>\n",
       "    .dataframe tbody tr th:only-of-type {\n",
       "        vertical-align: middle;\n",
       "    }\n",
       "\n",
       "    .dataframe tbody tr th {\n",
       "        vertical-align: top;\n",
       "    }\n",
       "\n",
       "    .dataframe thead th {\n",
       "        text-align: right;\n",
       "    }\n",
       "</style>\n",
       "<table border=\"1\" class=\"dataframe\">\n",
       "  <thead>\n",
       "    <tr style=\"text-align: right;\">\n",
       "      <th></th>\n",
       "      <th>ride_id</th>\n",
       "      <th>rideable_type</th>\n",
       "      <th>start_time</th>\n",
       "      <th>end_time</th>\n",
       "      <th>start_station_name</th>\n",
       "      <th>start_station_id</th>\n",
       "      <th>end_station_name</th>\n",
       "      <th>end_station_id</th>\n",
       "      <th>start_lat</th>\n",
       "      <th>start_lng</th>\n",
       "      <th>end_lat</th>\n",
       "      <th>end_lng</th>\n",
       "      <th>member_casual</th>\n",
       "      <th>date</th>\n",
       "      <th>avgTemp_C</th>\n",
       "      <th>avgTemp_F</th>\n",
       "      <th>daily_rides</th>\n",
       "      <th>_merge</th>\n",
       "      <th>month</th>\n",
       "      <th>season</th>\n",
       "    </tr>\n",
       "  </thead>\n",
       "  <tbody>\n",
       "    <tr>\n",
       "      <th>0</th>\n",
       "      <td>115C78C3039FFA89</td>\n",
       "      <td>electric_bike</td>\n",
       "      <td>2022-01-01 09:21:14</td>\n",
       "      <td>2022-01-01 09:35:46</td>\n",
       "      <td>Essex Light Rail</td>\n",
       "      <td>JC038</td>\n",
       "      <td>Essex Light Rail</td>\n",
       "      <td>JC038</td>\n",
       "      <td>40.712774</td>\n",
       "      <td>-74.036486</td>\n",
       "      <td>40.712774</td>\n",
       "      <td>-74.036486</td>\n",
       "      <td>member</td>\n",
       "      <td>2022-01-01</td>\n",
       "      <td>11.6</td>\n",
       "      <td>52.88</td>\n",
       "      <td>592</td>\n",
       "      <td>both</td>\n",
       "      <td>1</td>\n",
       "      <td>winter</td>\n",
       "    </tr>\n",
       "    <tr>\n",
       "      <th>1</th>\n",
       "      <td>7FFD810CAA7A919E</td>\n",
       "      <td>classic_bike</td>\n",
       "      <td>2022-01-01 02:43:56</td>\n",
       "      <td>2022-01-01 02:43:57</td>\n",
       "      <td>12 St &amp; Sinatra Dr N</td>\n",
       "      <td>HB201</td>\n",
       "      <td>12 St &amp; Sinatra Dr N</td>\n",
       "      <td>HB201</td>\n",
       "      <td>40.750604</td>\n",
       "      <td>-74.024020</td>\n",
       "      <td>40.750604</td>\n",
       "      <td>-74.024020</td>\n",
       "      <td>member</td>\n",
       "      <td>2022-01-01</td>\n",
       "      <td>11.6</td>\n",
       "      <td>52.88</td>\n",
       "      <td>592</td>\n",
       "      <td>both</td>\n",
       "      <td>1</td>\n",
       "      <td>winter</td>\n",
       "    </tr>\n",
       "    <tr>\n",
       "      <th>2</th>\n",
       "      <td>E715E8432031B72C</td>\n",
       "      <td>classic_bike</td>\n",
       "      <td>2022-01-01 02:13:33</td>\n",
       "      <td>2022-01-01 02:18:42</td>\n",
       "      <td>Essex Light Rail</td>\n",
       "      <td>JC038</td>\n",
       "      <td>Washington St</td>\n",
       "      <td>JC098</td>\n",
       "      <td>40.712774</td>\n",
       "      <td>-74.036486</td>\n",
       "      <td>40.724294</td>\n",
       "      <td>-74.035483</td>\n",
       "      <td>member</td>\n",
       "      <td>2022-01-01</td>\n",
       "      <td>11.6</td>\n",
       "      <td>52.88</td>\n",
       "      <td>592</td>\n",
       "      <td>both</td>\n",
       "      <td>1</td>\n",
       "      <td>winter</td>\n",
       "    </tr>\n",
       "    <tr>\n",
       "      <th>3</th>\n",
       "      <td>BF1B7B1E1961A87B</td>\n",
       "      <td>electric_bike</td>\n",
       "      <td>2022-01-01 17:18:46</td>\n",
       "      <td>2022-01-01 18:55:25</td>\n",
       "      <td>Grand St</td>\n",
       "      <td>JC102</td>\n",
       "      <td>W 27 St &amp; 7 Ave</td>\n",
       "      <td>6247.06</td>\n",
       "      <td>40.715178</td>\n",
       "      <td>-74.037683</td>\n",
       "      <td>40.746647</td>\n",
       "      <td>-73.993915</td>\n",
       "      <td>casual</td>\n",
       "      <td>2022-01-01</td>\n",
       "      <td>11.6</td>\n",
       "      <td>52.88</td>\n",
       "      <td>592</td>\n",
       "      <td>both</td>\n",
       "      <td>1</td>\n",
       "      <td>winter</td>\n",
       "    </tr>\n",
       "    <tr>\n",
       "      <th>4</th>\n",
       "      <td>4A01F0E53C6F4386</td>\n",
       "      <td>electric_bike</td>\n",
       "      <td>2022-01-01 11:23:32</td>\n",
       "      <td>2022-01-01 11:29:27</td>\n",
       "      <td>Christ Hospital</td>\n",
       "      <td>JC034</td>\n",
       "      <td>Hoboken Terminal - Hudson St &amp; Hudson Pl</td>\n",
       "      <td>HB101</td>\n",
       "      <td>40.734786</td>\n",
       "      <td>-74.050444</td>\n",
       "      <td>40.735938</td>\n",
       "      <td>-74.030305</td>\n",
       "      <td>member</td>\n",
       "      <td>2022-01-01</td>\n",
       "      <td>11.6</td>\n",
       "      <td>52.88</td>\n",
       "      <td>592</td>\n",
       "      <td>both</td>\n",
       "      <td>1</td>\n",
       "      <td>winter</td>\n",
       "    </tr>\n",
       "  </tbody>\n",
       "</table>\n",
       "</div>"
      ],
      "text/plain": [
       "            ride_id  rideable_type           start_time             end_time  \\\n",
       "0  115C78C3039FFA89  electric_bike  2022-01-01 09:21:14  2022-01-01 09:35:46   \n",
       "1  7FFD810CAA7A919E   classic_bike  2022-01-01 02:43:56  2022-01-01 02:43:57   \n",
       "2  E715E8432031B72C   classic_bike  2022-01-01 02:13:33  2022-01-01 02:18:42   \n",
       "3  BF1B7B1E1961A87B  electric_bike  2022-01-01 17:18:46  2022-01-01 18:55:25   \n",
       "4  4A01F0E53C6F4386  electric_bike  2022-01-01 11:23:32  2022-01-01 11:29:27   \n",
       "\n",
       "     start_station_name start_station_id  \\\n",
       "0      Essex Light Rail            JC038   \n",
       "1  12 St & Sinatra Dr N            HB201   \n",
       "2      Essex Light Rail            JC038   \n",
       "3              Grand St            JC102   \n",
       "4       Christ Hospital            JC034   \n",
       "\n",
       "                           end_station_name end_station_id  start_lat  \\\n",
       "0                          Essex Light Rail          JC038  40.712774   \n",
       "1                      12 St & Sinatra Dr N          HB201  40.750604   \n",
       "2                             Washington St          JC098  40.712774   \n",
       "3                           W 27 St & 7 Ave        6247.06  40.715178   \n",
       "4  Hoboken Terminal - Hudson St & Hudson Pl          HB101  40.734786   \n",
       "\n",
       "   start_lng    end_lat    end_lng member_casual       date  avgTemp_C  \\\n",
       "0 -74.036486  40.712774 -74.036486        member 2022-01-01       11.6   \n",
       "1 -74.024020  40.750604 -74.024020        member 2022-01-01       11.6   \n",
       "2 -74.036486  40.724294 -74.035483        member 2022-01-01       11.6   \n",
       "3 -74.037683  40.746647 -73.993915        casual 2022-01-01       11.6   \n",
       "4 -74.050444  40.735938 -74.030305        member 2022-01-01       11.6   \n",
       "\n",
       "   avgTemp_F  daily_rides _merge  month  season  \n",
       "0      52.88          592   both      1  winter  \n",
       "1      52.88          592   both      1  winter  \n",
       "2      52.88          592   both      1  winter  \n",
       "3      52.88          592   both      1  winter  \n",
       "4      52.88          592   both      1  winter  "
      ]
     },
     "execution_count": 7,
     "metadata": {},
     "output_type": "execute_result"
    }
   ],
   "source": [
    "# Checking dataframe\n",
    "df.head()"
   ]
  },
  {
   "cell_type": "markdown",
   "id": "3e80c9e6-8c43-4bb6-9156-bcf9c6003f89",
   "metadata": {},
   "source": [
    "## Bar Charts with Plotly"
   ]
  },
  {
   "cell_type": "code",
   "execution_count": 8,
   "id": "de881d38-69cd-4b62-9ebb-a4f099ff27bd",
   "metadata": {},
   "outputs": [],
   "source": [
    "# Grouping by start station and creating dataframe of top 20 most popular stations\n",
    "df['value'] = 1 \n",
    "df_group = df.groupby('start_station_name', as_index=False).agg({'value': 'sum'})\n",
    "top20 = df_group.nlargest(20, 'value')"
   ]
  },
  {
   "cell_type": "code",
   "execution_count": null,
   "id": "182b4e05-22e3-48d9-8ea4-fe4c83cc2a84",
   "metadata": {},
   "outputs": [],
   "source": [
    "# Creating bar chart of top 20 stations\n",
    "fig = go.Figure(go.Bar(x = top20['start_station_name'], y = top20['value'], marker={'color': top20['value'],'colorscale': 'viridis_r'}))\n",
    "fig.show()"
   ]
  },
  {
   "cell_type": "code",
   "execution_count": null,
   "id": "313c08bb-667c-432f-ac08-7eb8e0840015",
   "metadata": {},
   "outputs": [],
   "source": [
    "# Adding details to bar chart\n",
    "fig.update_layout(\n",
    "    title = 'Top 20 Most Popular Bike Stations in New York',\n",
    "    xaxis_title = 'Start stations',\n",
    "    yaxis_title ='Total trips',\n",
    "    width = 900, height = 600\n",
    ")"
   ]
  },
  {
   "cell_type": "code",
   "execution_count": 18,
   "id": "b9be2933-cc47-45c4-87c7-3604a9f8fc5d",
   "metadata": {},
   "outputs": [],
   "source": [
    "# Exporting top20 dataframe to .csv\n",
    "top20.to_csv('top20.csv')"
   ]
  },
  {
   "cell_type": "markdown",
   "id": "a938ecff-4b5f-4609-8e66-3b8e149ec354",
   "metadata": {},
   "source": [
    "## Line Chart in Plotly"
   ]
  },
  {
   "cell_type": "code",
   "execution_count": null,
   "id": "c48afda5-5bb0-4b75-aef2-f379018579ec",
   "metadata": {},
   "outputs": [],
   "source": [
    "# Creating line chart\n",
    "\n",
    "fig_2 = make_subplots(specs = [[{\"secondary_y\": True}]])\n",
    "\n",
    "fig_2.add_trace(\n",
    "go.Scatter(x = df['date'], y = df['daily_rides'], name = 'Daily Bike Rides',\n",
    "           marker={'color': df['daily_rides'],'color': 'navy'}),\n",
    "    secondary_y = False\n",
    ")\n",
    "\n",
    "fig_2.add_trace(\n",
    "go.Scatter(x=df['date'], y = df['avgTemp_F'], name = 'Daily Temperature',\n",
    "           marker={'color': df['avgTemp_F'],'color': 'red'}),\n",
    "    secondary_y=True\n",
    ")"
   ]
  },
  {
   "cell_type": "code",
   "execution_count": null,
   "id": "1bacfe69-2fd6-49ab-a55b-6e84a2fcaeaa",
   "metadata": {},
   "outputs": [],
   "source": [
    "# Adding details to line chart\n",
    "fig_2.update_layout(\n",
    "    title = 'Daily Bike Trips and Temperature in New York 2022',\n",
    "    xaxis_title = 'Month',\n",
    "    yaxis=dict(\n",
    "        title=\"Total Rides\",\n",
    "        titlefont=dict(color=\"navy\"),\n",
    "        tickfont=dict(color=\"navy\")  \n",
    "    ),\n",
    "    yaxis2=dict(\n",
    "        title=\"Average Temperature (\\u00B0F)\",\n",
    "        titlefont=dict(color=\"red\"),\n",
    "        tickfont=dict(color=\"red\"),\n",
    "        overlaying=\"y\",\n",
    "        side=\"right\"\n",
    "    ),\n",
    "    width = 1100, height = 400\n",
    ")"
   ]
  },
  {
   "cell_type": "markdown",
   "id": "105dc135-290b-44dc-8892-174227f4d6f2",
   "metadata": {},
   "source": [
    "## Reducing Data"
   ]
  },
  {
   "cell_type": "code",
   "execution_count": 25,
   "id": "61a284eb-6b1b-418c-81e6-ceeaaf258fe5",
   "metadata": {},
   "outputs": [
    {
     "data": {
      "text/plain": [
       "Index(['ride_id', 'rideable_type', 'start_time', 'end_time',\n",
       "       'start_station_name', 'start_station_id', 'end_station_name',\n",
       "       'end_station_id', 'start_lat', 'start_lng', 'end_lat', 'end_lng',\n",
       "       'member_casual', 'date', 'avgTemp_C', 'avgTemp_F', 'daily_rides',\n",
       "       '_merge', 'month', 'season', 'value'],\n",
       "      dtype='object')"
      ]
     },
     "execution_count": 25,
     "metadata": {},
     "output_type": "execute_result"
    }
   ],
   "source": [
    "# Checking columns in dataframe\n",
    "df.columns"
   ]
  },
  {
   "cell_type": "code",
   "execution_count": 26,
   "id": "6998b7c9-1ce1-45e8-ab72-2e716d9e449d",
   "metadata": {},
   "outputs": [],
   "source": [
    "# Removing columns to keep only those necessary for dashboard\n",
    "df_1 = df.drop(columns = {'ride_id', 'rideable_type', 'start_time', 'end_time', 'start_station_id', 'end_station_id',\n",
    "                          'start_lat', 'start_lng', 'end_lat', 'end_lng', 'member_casual', 'avgTemp_C', '_merge'})"
   ]
  },
  {
   "cell_type": "code",
   "execution_count": 27,
   "id": "a844ea14-4921-4912-a30b-b6eae17149b0",
   "metadata": {},
   "outputs": [
    {
     "data": {
      "text/plain": [
       "Index(['start_station_name', 'end_station_name', 'date', 'avgTemp_F',\n",
       "       'daily_rides', 'month', 'season', 'value'],\n",
       "      dtype='object')"
      ]
     },
     "execution_count": 27,
     "metadata": {},
     "output_type": "execute_result"
    }
   ],
   "source": [
    "# Checking columns of new dataframe\n",
    "df_1.columns"
   ]
  },
  {
   "cell_type": "code",
   "execution_count": 28,
   "id": "9eb896c9-d0f3-4c9c-bc7a-b2942c693df3",
   "metadata": {},
   "outputs": [],
   "source": [
    "# Exporting reduced dataset\n",
    "df_1.to_csv('reduced_data.csv')"
   ]
  },
  {
   "cell_type": "code",
   "execution_count": null,
   "id": "fd974223-108f-426c-b500-2455fd7f91f1",
   "metadata": {},
   "outputs": [],
   "source": []
  }
 ],
 "metadata": {
  "kernelspec": {
   "display_name": "Python [conda env:venv_nycitibike]",
   "language": "python",
   "name": "conda-env-venv_nycitibike-py"
  },
  "language_info": {
   "codemirror_mode": {
    "name": "ipython",
    "version": 3
   },
   "file_extension": ".py",
   "mimetype": "text/x-python",
   "name": "python",
   "nbconvert_exporter": "python",
   "pygments_lexer": "ipython3",
   "version": "3.10.16"
  }
 },
 "nbformat": 4,
 "nbformat_minor": 5
}
